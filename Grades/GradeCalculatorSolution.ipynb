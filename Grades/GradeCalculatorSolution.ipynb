{
 "cells": [
  {
   "cell_type": "markdown",
   "metadata": {},
   "source": [
    "1) I've written a program to calculate student grades but it has some bugs. Please run the program and find and correct the errors.\n",
    "\n",
    "When you have finsihed you should print out 68.5\n",
    "Charlotte got a D."
   ]
  },
  {
   "cell_type": "markdown",
   "metadata": {},
   "source": [
    "This program take a list of student grades and calculated their grade for the course.\n",
    "The file is in the following format:\n",
    "\n",
    "\tStudent Name\n",
    "\t81\n",
    "\t97\n",
    "\t100\n",
    "\t63"
   ]
  },
  {
   "cell_type": "code",
   "execution_count": 25,
   "metadata": {
    "collapsed": true
   },
   "outputs": [],
   "source": [
    "def calculateGrade(grades):\n",
    "    \"\"\"Calculates the mean of the students grades to\n",
    "    get their overall grade in the class.\n",
    "    Returns the overall grade.\n",
    "    \"\"\"\n",
    "    sum = 0\n",
    "    count = 0.0\n",
    "    for grade in grades:\n",
    "        count += 1.0\n",
    "        sum += float(grade)\n",
    "    return sum / count"
   ]
  },
  {
   "cell_type": "code",
   "execution_count": 26,
   "metadata": {
    "collapsed": true
   },
   "outputs": [],
   "source": [
    "def parseFile(filename):\n",
    "    \"\"\"\n",
    "    Reads the grades file and gets the student name and \n",
    "    a list of their grades.\n",
    "    Returns the name and list of grades.\n",
    "    \"\"\"\n",
    "    fi = open(filename)\n",
    "    grades = []\n",
    "    name = \"\"\n",
    "    for line in fi:\n",
    "        if not name:\n",
    "            name = line.strip()\n",
    "        else: \n",
    "            grade = line.strip()\n",
    "            grades.append(grade)\n",
    "    fi.close()\n",
    "    return name, grades"
   ]
  },
  {
   "cell_type": "code",
   "execution_count": 27,
   "metadata": {
    "collapsed": false
   },
   "outputs": [
    {
     "name": "stdout",
     "output_type": "stream",
     "text": [
      "68.5\n",
      "Charlotte got a D.\n"
     ]
    }
   ],
   "source": [
    "filename = \"grades.txt\"\n",
    "name, grades = parseFile(filename)\n",
    "studentGrade = calculateGrade(grades)\n",
    "print studentGrade\n",
    "if studentGrade >= 90:\n",
    "\tprint name, \"got an A.\"\n",
    "elif studentGrade >= 80:\n",
    "\tprint name, \"got a B.\"\n",
    "elif studentGrade >= 70:\n",
    "\tprint name, \"got a C.\"\n",
    "elif studentGrade >= 60:\n",
    "\tprint name, \"got a D.\"\n",
    "else:\n",
    "\tprint name, \"failed.\""
   ]
  },
  {
   "cell_type": "markdown",
   "metadata": {
    "collapsed": true
   },
   "source": [
    "2) Now that you have finished fixing the bugs, lets add some features.\n",
    "\n",
    "    a) Your co-teacher sometimes gets angry and gives students who really push her buttons a negative grade on assignments. In parseFile add a check that if the grade is negative to add a 0 to the grades variable instead. Otherwise your principal will be upset. \"gradesNegative.txt\" has an example of negative grades.\n",
    "    \n",
    "    b) The letter grade calcualtion should be a function. Write a function called letterGrade that takes as input an integer and outputs a letter \"A\", \"B\", \"C\", \"D\", or \"F\". Update the program to use this function instead.\n",
    "    \n",
    "    c) You have a separate file of students who completed an extra credit assignment. If a student completed the extra credit you need to increase their grade by 2%. The file is called \"extra.txt\". Read this file in and see if the student's name appears on the list. If it does add 2% to their grade. The file format has each name on a new line like this:\n",
    "        Harry\n",
    "        Suzy\n",
    "        Charlie\n",
    "       \n",
    "    d) *** Challenge *** Can you modify the program so that it can take a file that it can calculate all of the student's grades at once. There is a file called \"gradesAll.txt\" that has all of the students grades. The student's name comes first followed by all of their grades. Each separate student is separated by a blank line. See the following format:\n",
    "        <student 1 name>\n",
    "        100\n",
    "        90\n",
    "        95\n",
    "        \n",
    "        <student 2 name>\n",
    "        50\n",
    "        75\n",
    "        66\n",
    "        \n",
    "        <student 3 name>\n",
    "        85\n",
    "        91\n",
    "        87\n",
    "        "
   ]
  },
  {
   "cell_type": "code",
   "execution_count": 28,
   "metadata": {
    "collapsed": false
   },
   "outputs": [
    {
     "name": "stdout",
     "output_type": "stream",
     "text": [
      "['100', '95', '20', '38', '64', '88', 0, '100', '100', '86', 0, '91', '92', 0, 0, '100']\n"
     ]
    }
   ],
   "source": [
    "# write code for A here\n",
    "def parseFile(filename):\n",
    "    \"\"\"\n",
    "    Reads the grades file and gets the student name and \n",
    "    a list of their grades.\n",
    "    Returns the name and list of grades.\n",
    "    \"\"\"\n",
    "    fi = open(filename)\n",
    "    grades = []\n",
    "    name = \"\"\n",
    "    for line in fi:\n",
    "        if not name:\n",
    "            name = line.strip()\n",
    "        else: \n",
    "            grade = line.strip()\n",
    "            grade = grade\n",
    "            if int(grade) > 0:\n",
    "                grades.append(grade)\n",
    "            else:\n",
    "                grades.append(0)\n",
    "    fi.close()\n",
    "    return name, grades\n",
    "filename = \"gradesNegative.txt\"\n",
    "name, grades = parseFile(filename)\n",
    "print grades"
   ]
  },
  {
   "cell_type": "code",
   "execution_count": 29,
   "metadata": {
    "collapsed": false,
    "scrolled": true
   },
   "outputs": [
    {
     "name": "stdout",
     "output_type": "stream",
     "text": [
      "68.5\n",
      "Charlotte  got a  D\n"
     ]
    }
   ],
   "source": [
    "# write code for B here\n",
    "def letterGrade(numberGrade):\n",
    "    if numberGrade >= 90:\n",
    "        return \"A\"\n",
    "    elif numberGrade >= 80:\n",
    "        return \"B\"\n",
    "    elif numberGrade >= 70:\n",
    "        return \"C\"\n",
    "    elif numberGrade >= 60:\n",
    "        return \"D\"\n",
    "    else:\n",
    "        return \"F\"\n",
    "\n",
    "filename = \"grades.txt\"\n",
    "name, grades = parseFile(filename)\n",
    "studentGrade = calculateGrade(grades)\n",
    "letter = letterGrade(studentGrade)\n",
    "print studentGrade\n",
    "print name, \" got a \", letter"
   ]
  },
  {
   "cell_type": "code",
   "execution_count": 30,
   "metadata": {
    "collapsed": false
   },
   "outputs": [
    {
     "name": "stdout",
     "output_type": "stream",
     "text": [
      "70.5\n",
      "Charlotte  got a  C\n"
     ]
    }
   ],
   "source": [
    "# write code for C here\n",
    "def processExtraCredit(filename):\n",
    "    fi = open(filename)\n",
    "    extra = []\n",
    "    for line in fi:\n",
    "        extra.append(line.strip())\n",
    "    fi.close()\n",
    "    return extra\n",
    "\n",
    "extraCredit = processExtraCredit('extra.txt')\n",
    "\n",
    "filename = \"grades.txt\"\n",
    "name, grades = parseFile(filename)\n",
    "studentGrade = calculateGrade(grades)\n",
    "if name in extraCredit:\n",
    "    studentGrade += 2\n",
    "letter = letterGrade(studentGrade)\n",
    "print studentGrade\n",
    "print name, \" got a \", letter"
   ]
  },
  {
   "cell_type": "code",
   "execution_count": 31,
   "metadata": {
    "collapsed": false
   },
   "outputs": [
    {
     "name": "stdout",
     "output_type": "stream",
     "text": [
      "53.11\n",
      "Charlie  got a  F\n",
      "88.84\n",
      "Harry  got a  B\n",
      "49.1\n",
      "Suzi  got a  F\n"
     ]
    }
   ],
   "source": [
    "# write code for D here\n",
    "def parseFileAll(filename):\n",
    "    \"\"\"\n",
    "    Reads the grades file and gets the student name and \n",
    "    a list of their grades.\n",
    "    Returns the name and list of grades.\n",
    "    \"\"\"\n",
    "    fi = open(filename)\n",
    "    allGrades = {}\n",
    "    name = \"\"\n",
    "    for line in fi:\n",
    "        if not name:\n",
    "            name = line.strip()\n",
    "            allGrades[name] = []\n",
    "        elif line == \"\\n\":\n",
    "            name = \"\"\n",
    "        else: \n",
    "            grade = line.strip()\n",
    "            grade = grade\n",
    "            if int(grade) > 0:\n",
    "                allGrades[name].append(grade)\n",
    "            else:\n",
    "                allGrades[name].append(0)\n",
    "    fi.close()\n",
    "    return allGrades\n",
    "\n",
    "allGrades = parseFileAll('gradesAll.txt')\n",
    "extraCredit = processExtraCredit('extra.txt')\n",
    "for name in allGrades:\n",
    "    studentGrade = calculateGrade(allGrades[name])\n",
    "    if name in extraCredit:\n",
    "        studentGrade += 2\n",
    "    letter = letterGrade(studentGrade)\n",
    "    print studentGrade\n",
    "    print name, \" got a \", letter"
   ]
  },
  {
   "cell_type": "code",
   "execution_count": null,
   "metadata": {
    "collapsed": true
   },
   "outputs": [],
   "source": []
  }
 ],
 "metadata": {
  "kernelspec": {
   "display_name": "Python 2",
   "language": "python",
   "name": "python2"
  },
  "language_info": {
   "codemirror_mode": {
    "name": "ipython",
    "version": 2
   },
   "file_extension": ".py",
   "mimetype": "text/x-python",
   "name": "python",
   "nbconvert_exporter": "python",
   "pygments_lexer": "ipython2",
   "version": "2.7.10"
  }
 },
 "nbformat": 4,
 "nbformat_minor": 0
}
