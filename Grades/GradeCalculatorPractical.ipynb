{
 "cells": [
  {
   "cell_type": "markdown",
   "metadata": {},
   "source": [
    "1)  I've written a program to calculate student grades but it has some bugs. Please run the program and find and correct the errors.  When you have finished, the program should print:\n",
    "```\n",
    "68.5\n",
    "Charlotte got a D.\n",
    "```\n",
    "This program take a list of student grades and calculated their grade for the course.\n",
    "The file is in the following format:\n",
    "```\n",
    "Student Name\n",
    "81\n",
    "97\n",
    "100\n",
    "63\n",
    "```"
   ]
  },
  {
   "cell_type": "code",
   "execution_count": 5,
   "metadata": {
    "collapsed": false
   },
   "outputs": [
    {
     "name": "stdout",
     "output_type": "stream",
     "text": [
      "0\n",
      "1\n",
      "6\n"
     ]
    }
   ],
   "source": [
    "# Adding a number to a variable and reassigning is a very common\n",
    "# operation in python, so common that there's a special way to \n",
    "# signify it.  We use \"+=\" to mean \"add the number on the right \n",
    "# of the equals to the variable on the left\".\n",
    "\n",
    "my_total = 0\n",
    "print my_total\n",
    "my_total = my_total + 1\n",
    "print my_total\n",
    "my_total += 5\n",
    "print my_total"
   ]
  },
  {
   "cell_type": "code",
   "execution_count": 19,
   "metadata": {
    "collapsed": true
   },
   "outputs": [],
   "source": [
    "def calculateGrade(grades):\n",
    "    \"\"\"\n",
    "    Calculates the mean of the students grades to\n",
    "    get their overall grade in the class.\n",
    "    Returns the overall grade.\n",
    "    \"\"\"\n",
    "    sum = 0\n",
    "    count = float(len(grades))\n",
    "    for grade in grades:\n",
    "        grade = int(grade)\n",
    "        sum += grade\n",
    "    return sum / count"
   ]
  },
  {
   "cell_type": "code",
   "execution_count": 21,
   "metadata": {
    "collapsed": true
   },
   "outputs": [],
   "source": [
    "def parseFile(filename):\n",
    "    \"\"\"\n",
    "    Reads the grades file and gets the student name and \n",
    "    a list of their grades.\n",
    "    Returns the name and list of grades.\n",
    "    \"\"\"\n",
    "    fi = open(filename)\n",
    "    grades = []\n",
    "    name = \"\"\n",
    "    for line in fi:\n",
    "        if not name:\n",
    "            name = line.strip()\n",
    "        else: \n",
    "            grade = line.strip()\n",
    "            grades.append(grade)\n",
    "    fi.close()\n",
    "    return name, grades"
   ]
  },
  {
   "cell_type": "code",
   "execution_count": 22,
   "metadata": {
    "collapsed": false
   },
   "outputs": [
    {
     "name": "stdout",
     "output_type": "stream",
     "text": [
      "68.5\n",
      "Charlotte got an D.\n"
     ]
    }
   ],
   "source": [
    "filename = \"grades.txt\"\n",
    "name, grades = parseFile(filename)\n",
    "studentGrade = calculateGrade(grades)\n",
    "print studentGrade\n",
    "if studentGrade >= 90:\n",
    "    print name, \"got an A.\"\n",
    "elif studentGrade >= 80:\n",
    "    print name, \"got an B.\"\n",
    "elif studentGrade >= 70:\n",
    "    print name, \"got an C.\"\n",
    "elif studentGrade >= 60:\n",
    "    print name, \"got an D.\"\n",
    "else:\n",
    "    print name, \"failed.\""
   ]
  },
  {
   "cell_type": "markdown",
   "metadata": {
    "collapsed": true
   },
   "source": [
    "2)  Now that you have finished fixing the bugs, lets add some features.\n",
    "\n",
    "a)  Your co-teacher sometimes gets angry and gives students who really push her buttons a negative grade on assignments. In parseFile add a check that if the grade is negative to add a 0 to the grades variable instead. Otherwise your principal will be upset. \"gradesNegative.txt\" has an example of negative grades.\n",
    "    \n",
    "b)  The letter grade calcualtion should be a function. Write a function called letterGrade that takes as input an integer and outputs a letter \"A\", \"B\", \"C\", \"D\", or \"F\". Update the program to use this function instead.\n",
    "    \n",
    "c)  You have a separate file of students who completed an extra credit assignment. If a student completed the extra credit you need to increase their grade by 2%. The file is called \"extra.txt\". Read this file in and see if the student's name appears on the list. If it does add 2% to their grade. The file format has each name on a new line like this:\n",
    "```\n",
    "Harry\n",
    "Suzy\n",
    "Charlie\n",
    "```\n",
    "       \n",
    "d)  *** Challenge *** Can you modify the program so that it can take a file that it can calculate all of the student's grades at once. There is a file called \"gradesAll.txt\" that has all of the students grades. The student's name comes first followed by all of their grades. Each student is separated by a blank line. See the following format:\n",
    "```\n",
    "<student 1 name>\n",
    "100\n",
    "90\n",
    "95\n",
    "\n",
    "<student 2 name>\n",
    "50\n",
    "75\n",
    "66\n",
    "\n",
    "<student 3 name>\n",
    "85\n",
    "91\n",
    "87\n",
    "```"
   ]
  },
  {
   "cell_type": "code",
   "execution_count": 25,
   "metadata": {
    "collapsed": false
   },
   "outputs": [
    {
     "name": "stdout",
     "output_type": "stream",
     "text": [
      "['100', '95', '20', '38', '64', '88', 0, '100', '100', '86', 0, '91', '92', 0, '0', '100']\n",
      "60.875\n",
      "Charlotte got an D.\n"
     ]
    }
   ],
   "source": [
    "# write code for A here\n",
    "def parseFile(filename):\n",
    "    \"\"\"\n",
    "    Reads the grades file and gets the student name and \n",
    "    a list of their grades.\n",
    "    Returns the name and list of grades.\n",
    "    \"\"\"\n",
    "    fi = open(filename)\n",
    "    grades = []\n",
    "    name = \"\"\n",
    "    for line in fi:\n",
    "        if not name:\n",
    "            name = line.strip()\n",
    "        else: \n",
    "            grade = line.strip()\n",
    "            #if '-' in grade\n",
    "            if int(grade) < 0:\n",
    "                grades.append(0)\n",
    "            else:\n",
    "                grades.append(grade)\n",
    "    fi.close()\n",
    "    return name, grades\n",
    "\n",
    "filename = \"gradesNegative.txt\"\n",
    "name, grades = parseFile(filename)\n",
    "print grades\n",
    "studentGrade = calculateGrade(grades)\n",
    "print studentGrade\n",
    "if studentGrade >= 90:\n",
    "    print name, \"got an A.\"\n",
    "elif studentGrade >= 80:\n",
    "    print name, \"got an B.\"\n",
    "elif studentGrade >= 70:\n",
    "    print name, \"got an C.\"\n",
    "elif studentGrade >= 60:\n",
    "    print name, \"got an D.\"\n",
    "else:\n",
    "    print name, \"failed.\""
   ]
  },
  {
   "cell_type": "code",
   "execution_count": 3,
   "metadata": {
    "collapsed": false
   },
   "outputs": [
    {
     "name": "stdout",
     "output_type": "stream",
     "text": [
      "A\n"
     ]
    }
   ],
   "source": [
    "# write code for B here\n",
    "def letterGrade(studentGrade):\n",
    "    letter = ''\n",
    "    if studentGrade >= 90:\n",
    "        letter = \"A\"\n",
    "    elif studentGrade >= 80:\n",
    "        letter = \"B\"\n",
    "    elif studentGrade >= 70:\n",
    "        letter = \"C\"\n",
    "    elif studentGrade >= 60:\n",
    "        letter = \"D\"\n",
    "    else:\n",
    "        letter = \"F\"\n",
    "    return letter\n",
    "\n",
    "print letterGrade(95)"
   ]
  },
  {
   "cell_type": "code",
   "execution_count": null,
   "metadata": {
    "collapsed": true
   },
   "outputs": [],
   "source": [
    "# write code for C here"
   ]
  },
  {
   "cell_type": "code",
   "execution_count": null,
   "metadata": {
    "collapsed": true
   },
   "outputs": [],
   "source": [
    "# write code for D here"
   ]
  }
 ],
 "metadata": {
  "kernelspec": {
   "display_name": "Python 2",
   "language": "python",
   "name": "python2"
  },
  "language_info": {
   "codemirror_mode": {
    "name": "ipython",
    "version": 2
   },
   "file_extension": ".py",
   "mimetype": "text/x-python",
   "name": "python",
   "nbconvert_exporter": "python",
   "pygments_lexer": "ipython2",
   "version": "2.7.10"
  }
 },
 "nbformat": 4,
 "nbformat_minor": 0
}
